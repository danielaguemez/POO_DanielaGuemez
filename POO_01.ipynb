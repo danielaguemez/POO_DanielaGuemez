{
  "nbformat": 4,
  "nbformat_minor": 0,
  "metadata": {
    "colab": {
      "provenance": []
    },
    "kernelspec": {
      "name": "python3",
      "display_name": "Python 3"
    },
    "language_info": {
      "name": "python"
    }
  },
  "cells": [
    {
      "cell_type": "markdown",
      "source": [
        "# Introducción a objetos\n",
        "## Algunos / Primeros objetos\n"
      ],
      "metadata": {
        "id": "GSWL6ijRS9sG"
      }
    },
    {
      "cell_type": "markdown",
      "source": [
        "La función que identifica el tipo de objeto es la función `type`"
      ],
      "metadata": {
        "id": "qVoYJo23UkPH"
      }
    },
    {
      "cell_type": "markdown",
      "source": [],
      "metadata": {
        "id": "JrTotkQkV31I"
      }
    },
    {
      "cell_type": "markdown",
      "source": [
        "Las variables se escriben como sigue:\n"
      ],
      "metadata": {
        "id": "p8pil6u7VYz7"
      }
    },
    {
      "cell_type": "code",
      "source": [
        "num = 5"
      ],
      "metadata": {
        "id": "W-PvEx1SV10b"
      },
      "execution_count": 1,
      "outputs": []
    },
    {
      "cell_type": "code",
      "source": [
        "saludo = \"hola, mundo\""
      ],
      "metadata": {
        "id": "WOLdI0NFV8Wb"
      },
      "execution_count": 6,
      "outputs": []
    },
    {
      "cell_type": "markdown",
      "source": [
        "La funición `print` sirve para escribir y es lo mismo que `debug`, son la salida. Print = Debug"
      ],
      "metadata": {
        "id": "kDHiNJfwWg6a"
      }
    },
    {
      "cell_type": "code",
      "source": [
        "print (num)"
      ],
      "metadata": {
        "colab": {
          "base_uri": "https://localhost:8080/"
        },
        "id": "SZq1rqBAW0BG",
        "outputId": "162a0ac9-0012-4940-fa36-e500c1b84435"
      },
      "execution_count": 7,
      "outputs": [
        {
          "output_type": "stream",
          "name": "stdout",
          "text": [
            "5\n"
          ]
        }
      ]
    },
    {
      "cell_type": "code",
      "source": [
        "print(saludo)"
      ],
      "metadata": {
        "colab": {
          "base_uri": "https://localhost:8080/"
        },
        "id": "-innm0q6W4jv",
        "outputId": "856204bc-2473-4677-ddc1-7078d1943a32"
      },
      "execution_count": 10,
      "outputs": [
        {
          "output_type": "stream",
          "name": "stdout",
          "text": [
            "hola, mundo\n"
          ]
        }
      ]
    },
    {
      "cell_type": "code",
      "source": [
        "type (num)"
      ],
      "metadata": {
        "colab": {
          "base_uri": "https://localhost:8080/"
        },
        "id": "Vd9umYZpW9qk",
        "outputId": "ed430cf0-5b53-4423-dd12-b39df5e73b0c"
      },
      "execution_count": 11,
      "outputs": [
        {
          "output_type": "execute_result",
          "data": {
            "text/plain": [
              "int"
            ]
          },
          "metadata": {},
          "execution_count": 11
        }
      ]
    },
    {
      "cell_type": "code",
      "source": [
        "type (saludo)"
      ],
      "metadata": {
        "colab": {
          "base_uri": "https://localhost:8080/"
        },
        "id": "rfgaVCElW_Qn",
        "outputId": "cd9654da-6987-439f-ccbc-ee5d97e9c3a7"
      },
      "execution_count": 12,
      "outputs": [
        {
          "output_type": "execute_result",
          "data": {
            "text/plain": [
              "str"
            ]
          },
          "metadata": {},
          "execution_count": 12
        }
      ]
    },
    {
      "cell_type": "markdown",
      "source": [
        "Los objetos numericos pueden ser `int` o `float` , `float` convierte un entero en flotante, es decir, con decimal"
      ],
      "metadata": {
        "id": "FqntEsG1XW4G"
      }
    },
    {
      "cell_type": "code",
      "source": [
        "float(num)"
      ],
      "metadata": {
        "colab": {
          "base_uri": "https://localhost:8080/"
        },
        "id": "IWAWeQy6ZVoY",
        "outputId": "1e0579b8-43cf-4194-e63c-1614406539cc"
      },
      "execution_count": 15,
      "outputs": [
        {
          "output_type": "execute_result",
          "data": {
            "text/plain": [
              "5.0"
            ]
          },
          "metadata": {},
          "execution_count": 15
        }
      ]
    },
    {
      "cell_type": "code",
      "source": [
        "#El siguiente código verifica si num y saludo son objetos iguales o diferentes.\n",
        "#El resultado arroja un valor booleano\n",
        "type(num)==type(saludo)"
      ],
      "metadata": {
        "colab": {
          "base_uri": "https://localhost:8080/"
        },
        "id": "vA_moFgaXlas",
        "outputId": "05ad1452-3507-4c27-bd39-51657798d2d2"
      },
      "execution_count": 14,
      "outputs": [
        {
          "output_type": "execute_result",
          "data": {
            "text/plain": [
              "False"
            ]
          },
          "metadata": {},
          "execution_count": 14
        }
      ]
    },
    {
      "cell_type": "markdown",
      "source": [
        "Dos signos de igual **\"==\"** sirve para comparar el tipo de objeto y te va a dar los valores de TRUE or FALSE, son objetos **booleanos**"
      ],
      "metadata": {
        "id": "0swwgWvyXpcH"
      }
    },
    {
      "cell_type": "markdown",
      "source": [
        "Si pones # en una celda sirve para dar comentarios"
      ],
      "metadata": {
        "id": "i0RVJA3wYIfr"
      }
    },
    {
      "cell_type": "markdown",
      "source": [
        "String no se escribe completo, se escrobe `str`"
      ],
      "metadata": {
        "id": "qCyfhVqMZhRi"
      }
    },
    {
      "cell_type": "code",
      "source": [
        "num_s=str(num)"
      ],
      "metadata": {
        "id": "ZkwnXnCdZd5c"
      },
      "execution_count": 19,
      "outputs": []
    },
    {
      "cell_type": "markdown",
      "source": [
        "Tambien hay objetos que se llaman conjuntos como `range` que sirve para crear indices."
      ],
      "metadata": {
        "id": "Kny3WR9rbmLR"
      }
    },
    {
      "cell_type": "markdown",
      "source": [
        "Los indices en pytihn empiezan en 0\n"
      ],
      "metadata": {
        "id": "-Bfv9pNUbvbD"
      }
    },
    {
      "cell_type": "code",
      "source": [
        "range(10)"
      ],
      "metadata": {
        "colab": {
          "base_uri": "https://localhost:8080/"
        },
        "id": "A_z85xMvb3Um",
        "outputId": "93d58c8b-0c4c-45a6-e97d-e7569fdfe83b"
      },
      "execution_count": 20,
      "outputs": [
        {
          "output_type": "execute_result",
          "data": {
            "text/plain": [
              "range(0, 10)"
            ]
          },
          "metadata": {},
          "execution_count": 20
        }
      ]
    },
    {
      "cell_type": "code",
      "source": [
        "#Vamos a mostrar los elementos de range (10)\n",
        "for i in range(10):\n",
        "  print(i)"
      ],
      "metadata": {
        "colab": {
          "base_uri": "https://localhost:8080/"
        },
        "id": "7XUdfc42cLk-",
        "outputId": "512f58ab-5da7-4e50-ca45-53542eb63dbd"
      },
      "execution_count": 24,
      "outputs": [
        {
          "output_type": "stream",
          "name": "stdout",
          "text": [
            "0\n",
            "1\n",
            "2\n",
            "3\n",
            "4\n",
            "5\n",
            "6\n",
            "7\n",
            "8\n",
            "9\n"
          ]
        }
      ]
    },
    {
      "cell_type": "markdown",
      "source": [
        "Lista:\n",
        "Las listas se abren y se cierran con corchetes [ ]\n",
        "\n",
        "lista_1 = [el 0,el 1,el 2,el 3,]\n",
        "\n",
        "Cada \"el i\" es un objeto"
      ],
      "metadata": {
        "id": "HERpXfWQdA3V"
      }
    },
    {
      "cell_type": "code",
      "source": [
        "lista_1 = [1, \"1\", 1.0, [2,3]]"
      ],
      "metadata": {
        "id": "bjgG4Tv5dPXO"
      },
      "execution_count": 26,
      "outputs": []
    },
    {
      "cell_type": "code",
      "source": [
        "print(lista_1)"
      ],
      "metadata": {
        "colab": {
          "base_uri": "https://localhost:8080/"
        },
        "id": "YwqC9Yrmd19x",
        "outputId": "5fb2d968-5133-4b9c-a15e-ddff4046e963"
      },
      "execution_count": 27,
      "outputs": [
        {
          "output_type": "stream",
          "name": "stdout",
          "text": [
            "[1, '1', 1.0, [2, 3]]\n"
          ]
        }
      ]
    },
    {
      "cell_type": "code",
      "source": [
        "type(lista_1)"
      ],
      "metadata": {
        "colab": {
          "base_uri": "https://localhost:8080/"
        },
        "id": "bCTs8Tb_eMTL",
        "outputId": "e18e4c71-bf50-4cb7-8d62-4ae2ef0665aa"
      },
      "execution_count": 28,
      "outputs": [
        {
          "output_type": "execute_result",
          "data": {
            "text/plain": [
              "list"
            ]
          },
          "metadata": {},
          "execution_count": 28
        }
      ]
    },
    {
      "cell_type": "code",
      "source": [
        "lista_2 = [x for x in range (11)]\n",
        "print(lista_2)"
      ],
      "metadata": {
        "colab": {
          "base_uri": "https://localhost:8080/"
        },
        "id": "FNQ1_bscetM7",
        "outputId": "e33be000-0da3-4622-f254-00c7fca440e5"
      },
      "execution_count": 33,
      "outputs": [
        {
          "output_type": "stream",
          "name": "stdout",
          "text": [
            "[0, 1, 2, 3, 4, 5, 6, 7, 8, 9, 10]\n"
          ]
        }
      ]
    }
  ]
}