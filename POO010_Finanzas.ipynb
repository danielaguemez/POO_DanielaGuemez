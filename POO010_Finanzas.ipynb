{
  "nbformat": 4,
  "nbformat_minor": 0,
  "metadata": {
    "colab": {
      "provenance": []
    },
    "kernelspec": {
      "name": "python3",
      "display_name": "Python 3"
    },
    "language_info": {
      "name": "python"
    }
  },
  "cells": [
    {
      "cell_type": "code",
      "source": [
        "class CuentaBancaria: #Con una clase madre no es indispensable poner los dos parentesis\n",
        "\n",
        "    def __init__(self, cuenta_no, fecha_de_apertura, balance, cliente):\n",
        "        self.cuenta_no = cuenta_no\n",
        "        self.fecha_de_apertura  = fecha_de_apertura\n",
        "        self.balance = balance\n",
        "        self.cliente = cliente\n",
        "\n",
        "#Estas formando atributos/métodos\n",
        "    def deposito(self, monto):\n",
        "        self.balance += monto #cuando pones += no declaras la variable, solo pone el monto\n",
        "        print(f\"${monto} ha sido depositado a tu cuenta.\") #la \"f\" guarda el dato del monto, llama todos los datos\n",
        "\n",
        "    def seleccionar(self, monto):\n",
        "        if monto > self.balance:\n",
        "            print(\"Balance Insuficiente.\")\n",
        "        else:\n",
        "            self.balance -= monto\n",
        "            print(f\"${monto} ha sido seleccionado de tu cuenta.\")\n",
        "\n",
        "    def verificar_balance(self):\n",
        "        print(f\"El balance actual es ${self.balance}.\")\n",
        "\n",
        "    def print_detalles(self):\n",
        "        print(\"Nombre:\", self.cliente) #aqui llama el nombre del cliente pero como pusiste el self no tienes que poner la f\n",
        "        print(\"Numero cuenta:\", self.cuenta_no)\n",
        "        print(\"Fecha de apertura:\", self.fecha_de_apertura)\n",
        "        print(f\"Balance: ${self.balance}\\n\")\n",
        "\n",
        "\n",
        "cursor_1 = CuentaBancaria(2345, \"01-01-2011\", 1000, \"Cesar\")\n",
        "cursor_2 = CuentaBancaria(1234, \"11-03-2011\", 2000, \"Galindo\")\n",
        "\n",
        "\n",
        "print(\"Detalles:\")\n",
        "cursor_1.print_detalles()\n",
        "cursor_2.print_detalles()\n",
        "\n",
        "\n",
        "print(\"=============================\")\n",
        "cursor_2.print_detalles()\n",
        "\n",
        "cursor_2.deposito(1000)\n",
        "cursor_2.verificar_balance()\n",
        "\n",
        "cursor_2.seleccionar(5000)\n",
        "\n",
        "cursor_2.seleccionar(3400)\n",
        "cursor_2.verificar_balance()"
      ],
      "metadata": {
        "colab": {
          "base_uri": "https://localhost:8080/"
        },
        "id": "BPT3yQ_q0xl5",
        "outputId": "4b95a651-3341-46f9-d9c3-77f422b1fc6a"
      },
      "execution_count": null,
      "outputs": [
        {
          "output_type": "stream",
          "name": "stdout",
          "text": [
            "Detalles:\n",
            "Nombre: Cesar\n",
            "Numero cuenta: 2345\n",
            "Fecha de apertura: 01-01-2011\n",
            "Balance: $1000\n",
            "\n",
            "Nombre: Galindo\n",
            "Numero cuenta: 1234\n",
            "Fecha de apertura: 11-03-2011\n",
            "Balance: $2000\n",
            "\n",
            "=============================\n",
            "Nombre: Galindo\n",
            "Numero cuenta: 1234\n",
            "Fecha de apertura: 11-03-2011\n",
            "Balance: $2000\n",
            "\n",
            "$1000 ha sido depositado a tu cuenta.\n",
            "El balance actual es $3000.\n",
            "Balance Insuficiente.\n",
            "Balance Insuficiente.\n",
            "El balance actual es $3000.\n"
          ]
        }
      ]
    },
    {
      "cell_type": "code",
      "execution_count": null,
      "metadata": {
        "id": "lkBseQYw0pLu"
      },
      "outputs": [],
      "source": [
        "from datetime import datetime #crea datos fechados\n",
        "\n",
        "import yfinance as yf\n",
        "\n",
        "class Asset:\n",
        "    def __init__(self, ticker, start_date, end_date = datetime.today().strftime('%Y-%m-%d')): #tenemos tres aegumentos porque self no cuenta dentro de esos argumentos\n",
        "    #el today es que te va a dar fechas hasta el dia de hoy\n",
        "        self.ticker = ticker\n",
        "        self.start_date = start_date\n",
        "        self.end_date = end_date\n",
        "\n",
        "    def get_data(self):\n",
        "        df = yf.download(self.ticker, start = self.start_date, end = self.end_date)\n",
        "        return df\n",
        "\n",
        "    def  simple_returns(self, adj = False, cum = False): #cum es suma acumulada de los precios, falso porque no asignas, lo toma como variable; adj son precios de cierre ajustados falso porque no asignas, lo toma como variable.\n",
        "        df = self.get_data()\n",
        "        if adj:\n",
        "            simple_returns = df[\"Adj Close\"].pct_change().dropna() #toma del dataframe tus precios ajustados, con el punto ingresas a esa funcion\n",
        "        else:\n",
        "            simple_returns = df[\"Close\"].pct_change().dropna() #esto (pct_change) te da el rendimiento es lo de (P1-P0)/P0\n",
        "        if cum:\n",
        "            simple_returns = (1 + simple_returns).cumprod() - 1\n",
        "        return simple_returns"
      ]
    }
  ]
}