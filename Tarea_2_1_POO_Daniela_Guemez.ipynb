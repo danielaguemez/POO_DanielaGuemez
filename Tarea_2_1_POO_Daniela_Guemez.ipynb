{
  "nbformat": 4,
  "nbformat_minor": 0,
  "metadata": {
    "colab": {
      "provenance": []
    },
    "kernelspec": {
      "name": "python3",
      "display_name": "Python 3"
    },
    "language_info": {
      "name": "python"
    }
  },
  "cells": [
    {
      "cell_type": "markdown",
      "source": [
        "## Tarea\n",
        "### Instrucciones:\n",
        "\n",
        "\n",
        "*   La tarea se entrega individualmente.\n",
        "*   Leer los lineamientos e instrucciones que se enuentran en Moodle.\n",
        "*   Sube tu Notebook a tu GitHub\n",
        "*  La entrega se hace por Moodle compartiendo tu liga a GitHub.\n",
        "*  Fecha de entrega  **Martes 26 de septiembre antes de las 20:00hrs**\n",
        "*  Si existiera duda alguna, mandarlas por email.\n",
        "\n"
      ],
      "metadata": {
        "id": "-DR7LcQd27OM"
      }
    },
    {
      "cell_type": "code",
      "source": [
        "# Crea una clase que se llame Animal\n",
        "class Animal():\n",
        "# define un inicializador que contenga dos argumentos (a y b) que asignarás\n",
        "    def _init_(self, tipo, color):\n",
        "      self.tipo = tipo\n",
        "      self.color = color\n",
        "\n",
        "\n",
        "# Crea una clase heredada que se llame Mascota\n",
        "class Mascota(Animal):\n",
        "    def _init_(self, tipo, color):\n",
        "\n",
        "    # usar super(), (objeto temporal de la superclase) nos permite acceder a métodos de la clase madre\n",
        "        super()._init_(raza,nombre)\n",
        "\n",
        "    # define tres métodos asociados a Mascota\n",
        "    def Nombre(self, nombre):\n",
        "        print(\"Soy un perro\")\n",
        "\n",
        "\n",
        "    def\n",
        "\n",
        "    def\n"
      ],
      "metadata": {
        "id": "scsnMvfv7MXN"
      },
      "execution_count": null,
      "outputs": []
    },
    {
      "cell_type": "code",
      "source": [
        "# Crea dos clases que tengan asignados nombres de Países.\n",
        "class Mexico():\n",
        "  def __init__(self, capital, idioma, continente):\n",
        "    self.capital = capital\n",
        "    self.idioma = idioma\n",
        "    self.continente = continente\n",
        "\n",
        "class Austria():\n",
        "  def _init_(self, capital, idioma, continente):\n",
        "    self.capital = capital\n",
        "    self.idioma = idioma\n",
        "    self.continente = continente\n",
        "# Para cada clase, define al menos tres características del País considerado: por ejemplo, capital, idioma, etcétera\n",
        "def MexicoId(self):\n",
        "    print (\"En Mexico se habla español\")\n",
        "\n",
        "def MexicoCap(self):\n",
        "    print (\"La capital de Mexico es CDMX\")\n",
        "\n",
        "def MexicoCont(self):\n",
        "    print (\"Mexico esta en America\")\n",
        "\n",
        "def AustriaID(self):\n",
        "    print (\"En Austria se habla aleman\")\n",
        "\n",
        "def AustriaCap(self):\n",
        "    print (\"La capital de Austria es Vienna\")\n",
        "\n",
        "def AustriaCont(self):\n",
        "    print (\"Austria esta en Europa\")\n",
        "\n",
        "# Define dos variables que sean cursores\n",
        "var1= MexicoCap(\"CDMX\")\n",
        "var2 = AustriaCap(\"Vienna\")\n",
        "var3 = AustriaID(\"Aleman\")\n",
        "\n",
        "\n",
        "\n",
        "\n",
        "# Comenta tus resultados\n",
        "#Lo que se hizo aqui es se definio cada pais e información de ellos como su capital, idioma y continente para que cuando preguntaras la variable, ejemplo variable 3, te dijera el idioma que se habla en Austria"
      ],
      "metadata": {
        "id": "ZielRh0TBBEv",
        "colab": {
          "base_uri": "https://localhost:8080/"
        },
        "outputId": "3dec93bf-0d56-45c6-8cc8-1c8ad0930a02"
      },
      "execution_count": 39,
      "outputs": [
        {
          "output_type": "stream",
          "name": "stdout",
          "text": [
            "La capital de Mexico es CDMX\n",
            "La capital de Austria es Vienna\n",
            "En Austria se habla aleman\n"
          ]
        }
      ]
    },
    {
      "cell_type": "code",
      "execution_count": 23,
      "metadata": {
        "id": "3d4VtN9D7FWB"
      },
      "outputs": [],
      "source": [
        "## Ejemplo de polimorfismo de clase y herencia.\n",
        "import math\n",
        "# Crea una clase madre que se llame Forma\n",
        "class forma():\n",
        "  def __init__(self):\n",
        "        pass\n",
        "\n",
        "  def area(self):\n",
        "        pass\n",
        "\n",
        "  def perimetro(self):\n",
        "        pass\n",
        "\n",
        "class Circulo(forma):\n",
        "    def __init__(self, radio):\n",
        "        self.radio = radio\n",
        "\n",
        "    def area(self):\n",
        "        return math.pi * self.radio ** 2\n",
        "\n",
        "    def perimetro(self):\n",
        "        return 2 * math.pi * self.radio\n",
        "\n",
        "\n",
        "class Cuadrado(forma):\n",
        "    def __init__(self, lado):\n",
        "        self.lado = lado\n",
        "\n",
        "    def area(self):\n",
        "        return self.lado ** 2\n",
        "\n",
        "    def perimetro(self):\n",
        "        return 4 * self.lado\n",
        "# Crea dos clases heredadas de la clase madre Forma que calcule el área y el perímetro de un círculo\n",
        "# y de un cuadrado, respectivamente.\n",
        "\n",
        "\n",
        "\n"
      ]
    },
    {
      "cell_type": "code",
      "source": [
        "circulo = Circulo (5)\n",
        "cuadrado = Cuadrado (3)"
      ],
      "metadata": {
        "id": "UPnRLxw47eJ1"
      },
      "execution_count": 34,
      "outputs": []
    },
    {
      "cell_type": "code",
      "source": [
        "circulo.area()"
      ],
      "metadata": {
        "colab": {
          "base_uri": "https://localhost:8080/"
        },
        "id": "kQ_xvB_6703V",
        "outputId": "f38cea68-2e46-4e02-e0c6-e13a241f9268"
      },
      "execution_count": 35,
      "outputs": [
        {
          "output_type": "execute_result",
          "data": {
            "text/plain": [
              "78.53981633974483"
            ]
          },
          "metadata": {},
          "execution_count": 35
        }
      ]
    },
    {
      "cell_type": "code",
      "source": [
        "circulo.perimetro()"
      ],
      "metadata": {
        "colab": {
          "base_uri": "https://localhost:8080/"
        },
        "id": "1NFeBgkr8Bfk",
        "outputId": "756dfdac-806a-4fc1-e0c4-5aebb0293020"
      },
      "execution_count": 36,
      "outputs": [
        {
          "output_type": "execute_result",
          "data": {
            "text/plain": [
              "31.41592653589793"
            ]
          },
          "metadata": {},
          "execution_count": 36
        }
      ]
    },
    {
      "cell_type": "code",
      "source": [
        "cuadrado.perimetro()"
      ],
      "metadata": {
        "colab": {
          "base_uri": "https://localhost:8080/"
        },
        "id": "Qp2Q03_08I7M",
        "outputId": "d12ba610-7950-43d5-f445-e29b8d323c4f"
      },
      "execution_count": 37,
      "outputs": [
        {
          "output_type": "execute_result",
          "data": {
            "text/plain": [
              "12"
            ]
          },
          "metadata": {},
          "execution_count": 37
        }
      ]
    },
    {
      "cell_type": "code",
      "source": [
        "cuadrado.area()"
      ],
      "metadata": {
        "colab": {
          "base_uri": "https://localhost:8080/"
        },
        "id": "h2KRlUuP8Dew",
        "outputId": "c9fe36aa-1761-4d14-fc7c-73aeb1cc8e74"
      },
      "execution_count": 33,
      "outputs": [
        {
          "output_type": "execute_result",
          "data": {
            "text/plain": [
              "9"
            ]
          },
          "metadata": {},
          "execution_count": 33
        }
      ]
    }
  ]
}