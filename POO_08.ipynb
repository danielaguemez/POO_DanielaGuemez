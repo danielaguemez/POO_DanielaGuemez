{
  "cells": [
    {
      "cell_type": "markdown",
      "metadata": {
        "id": "HY887tezoANO"
      },
      "source": [
        "# OOP - Inheritance and Polymorphism in Python"
      ]
    },
    {
      "cell_type": "code",
      "execution_count": 1,
      "metadata": {
        "id": "pxLRgSSxoANR"
      },
      "outputs": [],
      "source": [
        "class Animal():\n",
        "\n",
        "    def __init__(self):\n",
        "        print(\"Animal class creada\")\n",
        "\n",
        "    #la funcion `init` inicializa toda la clase\n",
        "\n",
        "    def guess_who(self):\n",
        "        print(\"Soy un animalito\")\n",
        "\n",
        "    def sleep(self):\n",
        "        print(\"Estoy durmiendo\")"
      ]
    },
    {
      "cell_type": "code",
      "execution_count": 2,
      "metadata": {
        "id": "nEmsoWZgoANR",
        "outputId": "60932be8-6084-4d6c-a390-359710b558f6",
        "colab": {
          "base_uri": "https://localhost:8080/"
        }
      },
      "outputs": [
        {
          "output_type": "stream",
          "name": "stdout",
          "text": [
            "Animal class creada\n"
          ]
        }
      ],
      "source": [
        "my_animal = Animal()"
      ]
    },
    {
      "cell_type": "code",
      "execution_count": 3,
      "metadata": {
        "id": "1E85DdT4oANS",
        "outputId": "5ccec851-85dc-4143-e417-8ee007a9b04f",
        "colab": {
          "base_uri": "https://localhost:8080/"
        }
      },
      "outputs": [
        {
          "output_type": "stream",
          "name": "stdout",
          "text": [
            "Estoy durmiendo\n"
          ]
        }
      ],
      "source": [
        "my_animal.sleep()"
      ]
    },
    {
      "cell_type": "code",
      "execution_count": 26,
      "metadata": {
        "id": "1pMg4fJ3oANS"
      },
      "outputs": [],
      "source": [
        "class Cat(Animal):\n",
        "  #esta nueva clase se obtiene a partir de la case maestra subordinando a esta\n",
        "\n",
        "    def __init__(self):\n",
        "        Animal.__init__(self)\n",
        "        print(\"Cat class creada\")\n",
        "\n",
        "  #Inicializar funciones dentro de la clase \"Cat\" inizializa la clase maestra dentro de la subordinada\n",
        "\n",
        "    def guess_who(self):\n",
        "        print(\"Soy un gatito\")\n",
        "\n",
        "    def meow(self):\n",
        "        print(\"MEOWW!\")"
      ]
    },
    {
      "cell_type": "code",
      "execution_count": 5,
      "metadata": {
        "id": "d_GJe14ioANT",
        "outputId": "2cf02c8f-37f5-4ae8-ce8b-3b61814d2be0",
        "colab": {
          "base_uri": "https://localhost:8080/"
        }
      },
      "outputs": [
        {
          "output_type": "stream",
          "name": "stdout",
          "text": [
            "Animal class creada\n",
            "Cat class creada\n"
          ]
        }
      ],
      "source": [
        "my_cat = Cat() #Ese cat() es de la clase heredada"
      ]
    },
    {
      "cell_type": "code",
      "execution_count": 6,
      "metadata": {
        "id": "Q_F54Py6oANT",
        "outputId": "78abaf49-5787-4c35-ae6a-740251dae276",
        "colab": {
          "base_uri": "https://localhost:8080/"
        }
      },
      "outputs": [
        {
          "output_type": "stream",
          "name": "stdout",
          "text": [
            "Soy un gatito\n"
          ]
        }
      ],
      "source": [
        "my_cat.guess_who()"
      ]
    },
    {
      "cell_type": "code",
      "execution_count": 7,
      "metadata": {
        "id": "Pt4MmGPOoANT",
        "outputId": "15fa74b5-992e-4c61-8f0d-9f3762d4b8cc",
        "colab": {
          "base_uri": "https://localhost:8080/"
        }
      },
      "outputs": [
        {
          "output_type": "stream",
          "name": "stdout",
          "text": [
            "MEOWW!\n"
          ]
        }
      ],
      "source": [
        "my_cat.meow()"
      ]
    },
    {
      "cell_type": "markdown",
      "metadata": {
        "id": "2-RCIT2OoANT"
      },
      "source": [
        "## Polymorphism\n",
        "\n"
      ]
    },
    {
      "cell_type": "code",
      "execution_count": 27,
      "metadata": {
        "id": "3doTm2KgoANU"
      },
      "outputs": [],
      "source": [
        "class Doggy():\n",
        "\n",
        "    def __init__(self,name, raza):\n",
        "        self.name = name #aqui tienes que asignar la otra variable\n",
        "        self.raza = raza\n",
        "\n",
        "    def speak(self):\n",
        "        return self.name + \" says WOOF\""
      ]
    },
    {
      "cell_type": "code",
      "execution_count": 28,
      "metadata": {
        "id": "nGiW3SdboANU"
      },
      "outputs": [],
      "source": [
        "class Catty():\n",
        "\n",
        "    def __init__(self,name,raza):\n",
        "        self.name = name\n",
        "        self.raza = raza\n",
        "\n",
        "    def speak(self):\n",
        "        return self.name + \" says MEOW\""
      ]
    },
    {
      "cell_type": "code",
      "execution_count": 32,
      "metadata": {
        "id": "p5JWA0i6oANU"
      },
      "outputs": [],
      "source": [
        "my_dog = Doggy(\"Buzz\", \"labrador\")\n",
        "my_cat = Catty(\"Tim\", \"Egipcio\")"
      ]
    },
    {
      "cell_type": "markdown",
      "source": [],
      "metadata": {
        "id": "NszSM9AU4HCR"
      }
    },
    {
      "cell_type": "code",
      "execution_count": 34,
      "metadata": {
        "id": "4FYvR1ZFoANU",
        "outputId": "8045a961-6883-4323-93a4-71e6ba1b79e4",
        "colab": {
          "base_uri": "https://localhost:8080/"
        }
      },
      "outputs": [
        {
          "output_type": "stream",
          "name": "stdout",
          "text": [
            "Buzz says WOOF\n"
          ]
        }
      ],
      "source": [
        "print(my_dog.speak())"
      ]
    },
    {
      "cell_type": "code",
      "execution_count": 35,
      "metadata": {
        "id": "GDPh4tBYoANU",
        "outputId": "788a7b24-e62f-4b0d-fb1f-a62653ecd772",
        "colab": {
          "base_uri": "https://localhost:8080/"
        }
      },
      "outputs": [
        {
          "output_type": "stream",
          "name": "stdout",
          "text": [
            "Tim says MEOW\n"
          ]
        }
      ],
      "source": [
        "print(my_cat.speak())"
      ]
    },
    {
      "cell_type": "markdown",
      "metadata": {
        "id": "wtIpBDWyoANU"
      },
      "source": [
        "So notice that \"my_dog\" and \"my_cat\" have the same method name called \"speak\" but they have different types of class as seen."
      ]
    },
    {
      "cell_type": "code",
      "execution_count": 36,
      "metadata": {
        "id": "zYHlZlE_oANU",
        "outputId": "8293803d-7c82-40a6-816c-576255d7439b",
        "colab": {
          "base_uri": "https://localhost:8080/"
        }
      },
      "outputs": [
        {
          "output_type": "stream",
          "name": "stdout",
          "text": [
            "<class '__main__.Doggy'>\n",
            "<class 'str'>\n",
            "Buzz says WOOF\n",
            "<class '__main__.Catty'>\n",
            "<class 'str'>\n",
            "Tim says MEOW\n"
          ]
        }
      ],
      "source": [
        "for pet in [my_dog, my_cat]:\n",
        "    print(type(pet))\n",
        "    print(type(pet.speak()))\n",
        "    print(pet.speak())"
      ]
    },
    {
      "cell_type": "markdown",
      "metadata": {
        "id": "9JJqd0geoANV"
      },
      "source": [
        "## Abstract classes and inheritance\n",
        "\n",
        "Abstract classes are never expected to be instantiated. An instance of such a class is never expected to be made. It is designed to only serve as a base class."
      ]
    },
    {
      "cell_type": "code",
      "execution_count": 14,
      "metadata": {
        "id": "LErgUbOKoANV"
      },
      "outputs": [],
      "source": [
        "class Animal():\n",
        "\n",
        "    def __init__(self,name):\n",
        "        self.name = name\n",
        "\n",
        "    def speak(self):\n",
        "        raise NotImplementedError(\"Subclass must implement this abtract method\")"
      ]
    },
    {
      "cell_type": "code",
      "execution_count": 15,
      "metadata": {
        "id": "vbMNTm4foANV"
      },
      "outputs": [],
      "source": [
        "my_animal = Animal(\"Tia\")"
      ]
    },
    {
      "cell_type": "code",
      "execution_count": 37,
      "metadata": {
        "id": "4FfUFGV8oANV",
        "outputId": "8e9ac209-a0f1-4715-dde5-3cae4d8ba6b5",
        "colab": {
          "base_uri": "https://localhost:8080/",
          "height": 268
        }
      },
      "outputs": [
        {
          "output_type": "error",
          "ename": "NotImplementedError",
          "evalue": "ignored",
          "traceback": [
            "\u001b[0;31m---------------------------------------------------------------------------\u001b[0m",
            "\u001b[0;31mNotImplementedError\u001b[0m                       Traceback (most recent call last)",
            "\u001b[0;32m<ipython-input-37-ed4198de9ea6>\u001b[0m in \u001b[0;36m<cell line: 1>\u001b[0;34m()\u001b[0m\n\u001b[0;32m----> 1\u001b[0;31m \u001b[0mmy_animal\u001b[0m\u001b[0;34m.\u001b[0m\u001b[0mspeak\u001b[0m\u001b[0;34m(\u001b[0m\u001b[0;34m)\u001b[0m\u001b[0;34m\u001b[0m\u001b[0;34m\u001b[0m\u001b[0m\n\u001b[0m",
            "\u001b[0;32m<ipython-input-14-5574287b77c4>\u001b[0m in \u001b[0;36mspeak\u001b[0;34m(self)\u001b[0m\n\u001b[1;32m      5\u001b[0m \u001b[0;34m\u001b[0m\u001b[0m\n\u001b[1;32m      6\u001b[0m     \u001b[0;32mdef\u001b[0m \u001b[0mspeak\u001b[0m\u001b[0;34m(\u001b[0m\u001b[0mself\u001b[0m\u001b[0;34m)\u001b[0m\u001b[0;34m:\u001b[0m\u001b[0;34m\u001b[0m\u001b[0;34m\u001b[0m\u001b[0m\n\u001b[0;32m----> 7\u001b[0;31m         \u001b[0;32mraise\u001b[0m \u001b[0mNotImplementedError\u001b[0m\u001b[0;34m(\u001b[0m\u001b[0;34m\"Subclass must implement this abtract method\"\u001b[0m\u001b[0;34m)\u001b[0m\u001b[0;34m\u001b[0m\u001b[0;34m\u001b[0m\u001b[0m\n\u001b[0m",
            "\u001b[0;31mNotImplementedError\u001b[0m: Subclass must implement this abtract method"
          ]
        }
      ],
      "source": [
        "my_animal.speak()"
      ]
    },
    {
      "cell_type": "markdown",
      "metadata": {
        "id": "ZTmzuh4koANV"
      },
      "source": [
        "So now an error is raised since this class was never supposed to be instantiated. This is a abstract class because in the base class it is not doing anything and expects you to inherit this class and overwrite the method. Infact we need to create a subclass and implement this method which we will see below."
      ]
    },
    {
      "cell_type": "code",
      "execution_count": 18,
      "metadata": {
        "id": "gdLighsToANV"
      },
      "outputs": [],
      "source": [
        "class Dog(Animal):\n",
        "\n",
        "    def speak(self):\n",
        "        return self.name + \" says Woof!\""
      ]
    },
    {
      "cell_type": "code",
      "execution_count": 19,
      "metadata": {
        "id": "3dTrkyJPoANV"
      },
      "outputs": [],
      "source": [
        "class Cat(Animal):\n",
        "\n",
        "    def speak(self):\n",
        "        return self.name + \" says Meow!\""
      ]
    },
    {
      "cell_type": "code",
      "execution_count": 20,
      "metadata": {
        "id": "o7cWdhAVoANW"
      },
      "outputs": [],
      "source": [
        "jim = Dog(\"Jim\")"
      ]
    },
    {
      "cell_type": "code",
      "execution_count": 21,
      "metadata": {
        "id": "amq5rU39oANW"
      },
      "outputs": [],
      "source": [
        "tim = Cat(\"Tim\")"
      ]
    },
    {
      "cell_type": "code",
      "execution_count": 22,
      "metadata": {
        "id": "EQ3rO4ayoANW",
        "outputId": "2d31f41d-04c7-4c21-b810-18e8a6493bf4",
        "colab": {
          "base_uri": "https://localhost:8080/"
        }
      },
      "outputs": [
        {
          "output_type": "stream",
          "name": "stdout",
          "text": [
            "Jim says Woof!\n"
          ]
        }
      ],
      "source": [
        "print(jim.speak())"
      ]
    },
    {
      "cell_type": "code",
      "execution_count": 23,
      "metadata": {
        "id": "gYKTAXSXoANW",
        "outputId": "bc001994-a372-413b-e4b3-b3e807916ac6",
        "colab": {
          "base_uri": "https://localhost:8080/"
        }
      },
      "outputs": [
        {
          "output_type": "stream",
          "name": "stdout",
          "text": [
            "Tim says Meow!\n"
          ]
        }
      ],
      "source": [
        "print(tim.speak())"
      ]
    },
    {
      "cell_type": "code",
      "execution_count": 23,
      "metadata": {
        "id": "Tltj7Rk3oANW"
      },
      "outputs": [],
      "source": []
    }
  ],
  "metadata": {
    "kernelspec": {
      "display_name": "Python 3",
      "language": "python",
      "name": "python3"
    },
    "language_info": {
      "codemirror_mode": {
        "name": "ipython",
        "version": 3
      },
      "file_extension": ".py",
      "mimetype": "text/x-python",
      "name": "python",
      "nbconvert_exporter": "python",
      "pygments_lexer": "ipython3",
      "version": "3.7.7"
    },
    "colab": {
      "provenance": []
    }
  },
  "nbformat": 4,
  "nbformat_minor": 0
}