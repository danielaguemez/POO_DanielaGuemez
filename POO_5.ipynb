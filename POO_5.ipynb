{
  "nbformat": 4,
  "nbformat_minor": 0,
  "metadata": {
    "colab": {
      "provenance": []
    },
    "kernelspec": {
      "name": "python3",
      "display_name": "Python 3"
    },
    "language_info": {
      "name": "python"
    }
  },
  "cells": [
    {
      "cell_type": "code",
      "execution_count": null,
      "metadata": {
        "id": "Wb2qW8ValHPd"
      },
      "outputs": [],
      "source": []
    },
    {
      "cell_type": "markdown",
      "source": [
        "#Clases, Herencias y polimorfismos\n",
        "\n",
        "## Definiciones\n",
        "Se usa `def` para declarar\n"
      ],
      "metadata": {
        "id": "JzDlYEH6lKuM"
      }
    },
    {
      "cell_type": "code",
      "source": [
        "#Vamos a crear una definicion (que es una funcion integrada en python)\n",
        "\n",
        "def Isexy (a,b,c):\n",
        "  x = a+b*c\n",
        "  return x"
      ],
      "metadata": {
        "id": "aK7EYN0co0Lf"
      },
      "execution_count": 6,
      "outputs": []
    },
    {
      "cell_type": "code",
      "source": [
        "Isexy (23,45,67)"
      ],
      "metadata": {
        "colab": {
          "base_uri": "https://localhost:8080/"
        },
        "id": "9mgF7DQEq0iX",
        "outputId": "fe4a39f5-2088-4b3d-91e8-22bd4448539b"
      },
      "execution_count": 7,
      "outputs": [
        {
          "output_type": "execute_result",
          "data": {
            "text/plain": [
              "3038"
            ]
          },
          "metadata": {},
          "execution_count": 7
        }
      ]
    },
    {
      "cell_type": "code",
      "source": [
        "# Vamos a crear una definicion que calcule la inversa de una matriz\n",
        "import numpy as np\n",
        "\n",
        "def Inv_Isexy (M):\n",
        "  x=np.linalg.inv(M)\n",
        "  return x"
      ],
      "metadata": {
        "id": "lR2Dho6QpmQr"
      },
      "execution_count": 16,
      "outputs": []
    },
    {
      "cell_type": "code",
      "source": [
        "import random\n",
        "rannum = round(random.random(), 2)\n",
        "rannum"
      ],
      "metadata": {
        "colab": {
          "base_uri": "https://localhost:8080/"
        },
        "id": "njf5kJhxt3bF",
        "outputId": "73eb539e-a4cd-42dd-8400-f257b5760aee"
      },
      "execution_count": 22,
      "outputs": [
        {
          "output_type": "execute_result",
          "data": {
            "text/plain": [
              "0.26"
            ]
          },
          "metadata": {},
          "execution_count": 22
        }
      ]
    },
    {
      "cell_type": "code",
      "source": [
        "a = round(random.random(), 2)"
      ],
      "metadata": {
        "id": "Y33XwRnBuDLr"
      },
      "execution_count": 23,
      "outputs": []
    },
    {
      "cell_type": "code",
      "source": [
        "b = round(random.random(), 2)"
      ],
      "metadata": {
        "id": "ofSK618AuFOx"
      },
      "execution_count": 24,
      "outputs": []
    },
    {
      "cell_type": "code",
      "source": [
        "c= round(random.random(), 2)"
      ],
      "metadata": {
        "id": "UbNaMJjvuHqv"
      },
      "execution_count": 25,
      "outputs": []
    },
    {
      "cell_type": "code",
      "source": [
        "d= round(random.random(), 2)"
      ],
      "metadata": {
        "id": "0bsgFIWTuKQ1"
      },
      "execution_count": 26,
      "outputs": []
    },
    {
      "cell_type": "code",
      "source": [
        "e= round(random.random(), 2)"
      ],
      "metadata": {
        "id": "2MRZArH9uL9D"
      },
      "execution_count": 27,
      "outputs": []
    },
    {
      "cell_type": "code",
      "source": [
        "f= round(random.random(), 2)"
      ],
      "metadata": {
        "id": "xKkAhZ5vuNZE"
      },
      "execution_count": 28,
      "outputs": []
    },
    {
      "cell_type": "code",
      "source": [
        "g= round(random.random(), 2)"
      ],
      "metadata": {
        "id": "0VuZcHfpuQF-"
      },
      "execution_count": 29,
      "outputs": []
    },
    {
      "cell_type": "code",
      "source": [
        "h= round(random.random(), 2)"
      ],
      "metadata": {
        "id": "Ryx5qQE6uRaK"
      },
      "execution_count": 30,
      "outputs": []
    },
    {
      "cell_type": "code",
      "source": [
        "i= round(random.random(), 2)"
      ],
      "metadata": {
        "id": "8j1Im_GduSfX"
      },
      "execution_count": 31,
      "outputs": []
    },
    {
      "cell_type": "code",
      "source": [
        "Isexynormy=np.array(([a,b,c],[d,e,f],[g,h,i]))"
      ],
      "metadata": {
        "id": "MNSa67oqspcq"
      },
      "execution_count": 37,
      "outputs": []
    },
    {
      "cell_type": "code",
      "source": [
        "Isexynormy"
      ],
      "metadata": {
        "colab": {
          "base_uri": "https://localhost:8080/"
        },
        "id": "S0wpPJX5vAbp",
        "outputId": "5054787d-60e8-4950-a317-114dede15aa6"
      },
      "execution_count": 38,
      "outputs": [
        {
          "output_type": "execute_result",
          "data": {
            "text/plain": [
              "array([[0.59, 0.  , 0.45],\n",
              "       [0.83, 0.84, 0.48],\n",
              "       [0.86, 0.62, 0.34]])"
            ]
          },
          "metadata": {},
          "execution_count": 38
        }
      ]
    },
    {
      "cell_type": "code",
      "source": [
        "Inv_Isexy(Isexynormy)"
      ],
      "metadata": {
        "colab": {
          "base_uri": "https://localhost:8080/"
        },
        "id": "gEwRBzfDsgen",
        "outputId": "0745e7a3-05bf-4dc0-a17f-3dcd538e9be8"
      },
      "execution_count": 39,
      "outputs": [
        {
          "output_type": "execute_result",
          "data": {
            "text/plain": [
              "array([[ 0.11929615, -2.77363555,  3.75782881],\n",
              "       [-1.2983398 ,  1.85306691, -0.89770355],\n",
              "       [ 2.06581171,  3.63654439, -4.92693111]])"
            ]
          },
          "metadata": {},
          "execution_count": 39
        }
      ]
    },
    {
      "cell_type": "code",
      "source": [
        "y=np.random.randint(1,20,size=(2,2))\n",
        "Inv_Isexy(y)"
      ],
      "metadata": {
        "colab": {
          "base_uri": "https://localhost:8080/"
        },
        "id": "JtCcPG5txu94",
        "outputId": "eb5f7e77-acf2-4519-819b-fae18e94a0c4"
      },
      "execution_count": 40,
      "outputs": [
        {
          "output_type": "execute_result",
          "data": {
            "text/plain": [
              "array([[ 0.06642066, -0.00369004],\n",
              "       [-0.06273063,  0.05904059]])"
            ]
          },
          "metadata": {},
          "execution_count": 40
        }
      ]
    },
    {
      "cell_type": "code",
      "source": [
        "y"
      ],
      "metadata": {
        "id": "Vbowg8I1x8k-",
        "outputId": "233e046d-de98-4e53-97b7-1e6eb0e92d68",
        "colab": {
          "base_uri": "https://localhost:8080/"
        }
      },
      "execution_count": 41,
      "outputs": [
        {
          "output_type": "execute_result",
          "data": {
            "text/plain": [
              "array([[16,  1],\n",
              "       [17, 18]])"
            ]
          },
          "metadata": {},
          "execution_count": 41
        }
      ]
    }
  ]
}