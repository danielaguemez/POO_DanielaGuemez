{
  "nbformat": 4,
  "nbformat_minor": 0,
  "metadata": {
    "colab": {
      "provenance": []
    },
    "kernelspec": {
      "name": "python3",
      "display_name": "Python 3"
    },
    "language_info": {
      "name": "python"
    }
  },
  "cells": [
    {
      "cell_type": "code",
      "execution_count": null,
      "metadata": {
        "id": "eSMRs9b9cp5W"
      },
      "outputs": [],
      "source": []
    },
    {
      "cell_type": "markdown",
      "source": [
        "#Condicionales: If...elif...else"
      ],
      "metadata": {
        "id": "9ZrszOaicqlm"
      }
    },
    {
      "cell_type": "code",
      "source": [
        "#Ejemplo 1\n",
        "letra = \"A\"\n",
        "\n",
        "if letra == \"B\":\n",
        "  print(\"La letra es B\")\n",
        "elif letra == \"C\":\n",
        "  print(\"La letra es C\")\n",
        "elif letra == \"A\":\n",
        "  print(\"La letra es A\")\n",
        "else:\n",
        "  print(\"La letra no es A ni B ni C\")"
      ],
      "metadata": {
        "id": "Bm3P2ZXrcw20"
      },
      "execution_count": null,
      "outputs": []
    },
    {
      "cell_type": "code",
      "source": [
        "#Ejemplo 2\n",
        "numero = int(input(\"Escribe un número \"))"
      ],
      "metadata": {
        "colab": {
          "base_uri": "https://localhost:8080/"
        },
        "id": "vshDnxxWdclq",
        "outputId": "7d785e51-7572-4ada-dcc5-8ae8af3b7c60"
      },
      "execution_count": 28,
      "outputs": [
        {
          "name": "stdout",
          "output_type": "stream",
          "text": [
            "Escribe un número 5\n"
          ]
        }
      ]
    },
    {
      "cell_type": "code",
      "source": [
        "if numero % 2 == 0 and numero % 4 != 0 :\n",
        "  print(f\"{numero} es multiples de dos\")\n",
        "elif numero %4==0:\n",
        "  print (f\"{numero} es multiples de cuatro\")\n",
        "else :\n",
        "  print (f\"{numero} no es múltiplo de dos \")"
      ],
      "metadata": {
        "colab": {
          "base_uri": "https://localhost:8080/"
        },
        "id": "BDQDi0L6eSOj",
        "outputId": "a3ed7aa4-8a2a-44cc-e938-fcd094876292"
      },
      "execution_count": 29,
      "outputs": [
        {
          "output_type": "stream",
          "name": "stdout",
          "text": [
            "5 no es múltiplo de dos \n"
          ]
        }
      ]
    },
    {
      "cell_type": "code",
      "source": [
        "#Ejemplo 3\n",
        "Edad = int(input(\"Cuántos años tienes \"))\n",
        "\n",
        "if Edad >= 18:\n",
        "  print (\"Ya puedes tomar\")\n",
        "elif Edad >= 10 and Edad < 18:\n",
        "  print (\"Ya no puedes pedir menú de niños pero tampoco alcohol\")\n",
        "elif Edad >=3 and Edad < 10:\n",
        "  print (\"El menú de niños está disponible\")\n",
        "else:\n",
        "  print (\"La comida es gratis\")"
      ],
      "metadata": {
        "colab": {
          "base_uri": "https://localhost:8080/"
        },
        "id": "lrSe4mvvhFRB",
        "outputId": "22031878-3f1c-49ea-e003-7cf338bca88d"
      },
      "execution_count": 46,
      "outputs": [
        {
          "output_type": "stream",
          "name": "stdout",
          "text": [
            "Cuántos años tienes 6\n",
            "El menú de niños está disponible\n"
          ]
        }
      ]
    },
    {
      "cell_type": "markdown",
      "source": [
        "#Clases y polimorfismos"
      ],
      "metadata": {
        "id": "Yrapp-CwlZWg"
      }
    },
    {
      "cell_type": "code",
      "source": [
        "class Mascota:\n",
        "  def hable(self):\n",
        "    return NotImplementedError\n",
        "class PERRO(Mascota):\n",
        "  def hable(self):\n",
        "    return \"WOOOFF\"\n",
        "class GATO(Mascota):\n",
        "  def hable(self):\n",
        "    return \"MIAWW\"\n",
        "class VACA(Mascota):\n",
        "  def hable(self):\n",
        "    return \"MOOO\"\n",
        "class PEZ(Mascota):\n",
        "  def hable(self):\n",
        "    return \"GLU GLU\"\n",
        "class GALLO(Mascota):\n",
        "  def hable(self):\n",
        "    return \"QUIKIRIKI\"\n",
        "class LEON(Mascota):\n",
        "  def hable(self):\n",
        "    return \"GRAWRHHWWWW\"\n",
        "class PATO(Mascota):\n",
        "  def hable(self):\n",
        "    return \"CUAK CUAK\""
      ],
      "metadata": {
        "id": "NXiV94u0jrrg"
      },
      "execution_count": 58,
      "outputs": []
    },
    {
      "cell_type": "code",
      "source": [
        "#Vamos a crear una lista de mascotas (objetos dentro de una clase)\n",
        "mascotas = [PERRO(),GATO(), VACA(), PEZ(), GALLO(), LEON(), PATO()]\n",
        "mascotas"
      ],
      "metadata": {
        "colab": {
          "base_uri": "https://localhost:8080/"
        },
        "id": "om7DAKpyoBLG",
        "outputId": "4f8e373e-50e9-4873-ef55-f0babc141ad7"
      },
      "execution_count": 59,
      "outputs": [
        {
          "output_type": "execute_result",
          "data": {
            "text/plain": [
              "[<__main__.PERRO at 0x7b99e7f1a710>,\n",
              " <__main__.GATO at 0x7b99e7f19480>,\n",
              " <__main__.VACA at 0x7b99e7f199f0>,\n",
              " <__main__.PEZ at 0x7b99e7f198a0>,\n",
              " <__main__.GALLO at 0x7b99e7f1bbb0>,\n",
              " <__main__.LEON at 0x7b99e7f1a4a0>,\n",
              " <__main__.PATO at 0x7b99e7f19f60>]"
            ]
          },
          "metadata": {},
          "execution_count": 59
        }
      ]
    },
    {
      "cell_type": "code",
      "source": [
        "for Mascota in mascotas:\n",
        "  print (Mascota.hable())"
      ],
      "metadata": {
        "colab": {
          "base_uri": "https://localhost:8080/"
        },
        "id": "2KIqQNA1owPd",
        "outputId": "4a8d0c2a-59fc-4c20-9553-526e4c24e95f"
      },
      "execution_count": 60,
      "outputs": [
        {
          "output_type": "stream",
          "name": "stdout",
          "text": [
            "WOOOFF\n",
            "MIAWW\n",
            "MOOO\n",
            "GLU GLU\n",
            "QUIKIRIKI\n",
            "GRAWRHHWWWW\n",
            "CUAK CUAK\n"
          ]
        }
      ]
    },
    {
      "cell_type": "code",
      "source": [
        "class Persona:\n",
        "    def __init__(self, nombre, edad):\n",
        "      self.nombre = nombre\n",
        "      self.edad = edad"
      ],
      "metadata": {
        "id": "ed6PGFjbrFDA"
      },
      "execution_count": 61,
      "outputs": []
    },
    {
      "cell_type": "code",
      "source": [
        "Daniela = Persona(\"Daniela\", 21)\n",
        "Isexy = Persona(\"Iresi\", 20)"
      ],
      "metadata": {
        "id": "kL6manTrrYec"
      },
      "execution_count": 72,
      "outputs": []
    },
    {
      "cell_type": "code",
      "source": [
        "Daniela.edad"
      ],
      "metadata": {
        "colab": {
          "base_uri": "https://localhost:8080/"
        },
        "id": "3UzOfJqvsVAq",
        "outputId": "405bf4a9-86b6-4e6f-fdfc-ee7e71671c7d"
      },
      "execution_count": 70,
      "outputs": [
        {
          "output_type": "execute_result",
          "data": {
            "text/plain": [
              "21"
            ]
          },
          "metadata": {},
          "execution_count": 70
        }
      ]
    },
    {
      "cell_type": "code",
      "source": [
        "Daniela.nombre"
      ],
      "metadata": {
        "colab": {
          "base_uri": "https://localhost:8080/",
          "height": 35
        },
        "id": "rgKrqvy5rqft",
        "outputId": "649e0437-c84b-4494-9430-7f4054397b3a"
      },
      "execution_count": 69,
      "outputs": [
        {
          "output_type": "execute_result",
          "data": {
            "text/plain": [
              "'Daniela'"
            ],
            "application/vnd.google.colaboratory.intrinsic+json": {
              "type": "string"
            }
          },
          "metadata": {},
          "execution_count": 69
        }
      ]
    },
    {
      "cell_type": "code",
      "source": [
        "Isexy.nombre"
      ],
      "metadata": {
        "colab": {
          "base_uri": "https://localhost:8080/",
          "height": 35
        },
        "id": "_ekWksXysaZI",
        "outputId": "3cd03cbe-f54d-41d7-a2b6-e83b192086ff"
      },
      "execution_count": 73,
      "outputs": [
        {
          "output_type": "execute_result",
          "data": {
            "text/plain": [
              "'Iresi'"
            ],
            "application/vnd.google.colaboratory.intrinsic+json": {
              "type": "string"
            }
          },
          "metadata": {},
          "execution_count": 73
        }
      ]
    },
    {
      "cell_type": "code",
      "source": [
        "Isexy.edad"
      ],
      "metadata": {
        "colab": {
          "base_uri": "https://localhost:8080/"
        },
        "id": "2MrJhrm1sfEp",
        "outputId": "76c189d2-a191-46fa-be06-4ee5207c4089"
      },
      "execution_count": 74,
      "outputs": [
        {
          "output_type": "execute_result",
          "data": {
            "text/plain": [
              "20"
            ]
          },
          "metadata": {},
          "execution_count": 74
        }
      ]
    }
  ]
}